{
  "nbformat": 4,
  "nbformat_minor": 0,
  "metadata": {
    "colab": {
      "provenance": [],
      "authorship_tag": "ABX9TyPpHLqhB3e21fpc2IQ45heY",
      "include_colab_link": true
    },
    "kernelspec": {
      "name": "python3",
      "display_name": "Python 3"
    },
    "language_info": {
      "name": "python"
    }
  },
  "cells": [
    {
      "cell_type": "markdown",
      "metadata": {
        "id": "view-in-github",
        "colab_type": "text"
      },
      "source": [
        "<a href=\"https://colab.research.google.com/github/abyssmu/CS598-Hadi-Womack/blob/main/CS598_nhadi3_sarobin2.ipynb\" target=\"_parent\"><img src=\"https://colab.research.google.com/assets/colab-badge.svg\" alt=\"Open In Colab\"/></a>"
      ]
    },
    {
      "cell_type": "code",
      "execution_count": 4,
      "metadata": {
        "id": "hFq5u0P5yD7d"
      },
      "outputs": [],
      "source": [
        "import torch\n",
        "import torch.nn as nn\n",
        "import torch.nn.functional as F\n",
        "import math"
      ]
    },
    {
      "cell_type": "code",
      "source": [
        "class AgeEncoder(nn.Module):\n",
        "    \"\"\"\n",
        "    Age encoder module as described in the paper.\n",
        "    Inspired by positional encoding in the Transformer model.\n",
        "    \"\"\"\n",
        "    def __init__(self, d_model=512):\n",
        "        super(AgeEncoder, self).__init__()\n",
        "        self.d_model = d_model\n",
        "        self.fc1 = nn.Linear(d_model, 512)\n",
        "        self.layer_norm = nn.LayerNorm(512)\n",
        "        self.fc2 = nn.Linear(512, 1024)\n",
        "\n",
        "    def forward(self, age):\n",
        "        \"\"\"\n",
        "        Args:\n",
        "            age: scalar age value (normalized to 0-1 range)\n",
        "        \"\"\"\n",
        "        # Create positional encoding for age\n",
        "        encoding = torch.zeros(self.d_model, device=age.device)\n",
        "        div_term = torch.exp(torch.arange(0, self.d_model, 2, device=age.device) *\n",
        "                            -(math.log(10000.0) / self.d_model))\n",
        "\n",
        "        # Apply sinusoidal encoding\n",
        "        encoding[0::2] = torch.sin(age * div_term)\n",
        "        encoding[1::2] = torch.cos(age * div_term)\n",
        "\n",
        "        # Transform through linear layers\n",
        "        x = self.fc1(encoding)\n",
        "        x = self.layer_norm(x)\n",
        "        x = self.fc2(x)\n",
        "\n",
        "        return x"
      ],
      "metadata": {
        "id": "iAx1nppuz6k7"
      },
      "execution_count": 2,
      "outputs": []
    },
    {
      "cell_type": "code",
      "source": [
        "class AlzheimerNet(nn.Module):\n",
        "    \"\"\"\n",
        "    CNN architecture for Alzheimer's disease detection as described in the paper.\n",
        "    \"\"\"\n",
        "    def __init__(self, num_classes=3, widening_factor=8, use_age=True):\n",
        "        super(AlzheimerNet, self).__init__()\n",
        "        self.use_age = use_age\n",
        "        self.widening_factor = widening_factor\n",
        "\n",
        "        # Block 1\n",
        "        self.conv1 = nn.Conv3d(1, 4 * widening_factor, kernel_size=1, stride=1, padding=0, dilation=1)\n",
        "        self.in1 = nn.InstanceNorm3d(4 * widening_factor)\n",
        "        self.relu1 = nn.ReLU(inplace=True)\n",
        "        self.pool1 = nn.MaxPool3d(kernel_size=3, stride=2)\n",
        "\n",
        "        # Block 2\n",
        "        self.conv2 = nn.Conv3d(4 * widening_factor, 32 * widening_factor, kernel_size=3, stride=1, padding=0, dilation=2)\n",
        "        self.in2 = nn.InstanceNorm3d(32 * widening_factor)\n",
        "        self.relu2 = nn.ReLU(inplace=True)\n",
        "        self.pool2 = nn.MaxPool3d(kernel_size=3, stride=2)\n",
        "\n",
        "        # Block 3\n",
        "        self.conv3 = nn.Conv3d(32 * widening_factor, 64 * widening_factor, kernel_size=5, stride=1, padding=2, dilation=2)\n",
        "        self.in3 = nn.InstanceNorm3d(64 * widening_factor)\n",
        "        self.relu3 = nn.ReLU(inplace=True)\n",
        "        self.pool3 = nn.MaxPool3d(kernel_size=3, stride=2)\n",
        "\n",
        "        # Block 4\n",
        "        self.conv4 = nn.Conv3d(64 * widening_factor, 64 * widening_factor, kernel_size=3, stride=1, padding=1, dilation=2)\n",
        "        self.in4 = nn.InstanceNorm3d(64 * widening_factor)\n",
        "        self.relu4 = nn.ReLU(inplace=True)\n",
        "        self.pool4 = nn.MaxPool3d(kernel_size=5, stride=2)\n",
        "\n",
        "        # Fully connected layers\n",
        "        self.fc1 = nn.Linear(64 * widening_factor * 5 * 5 * 5, 1024)\n",
        "\n",
        "        # Age encoder\n",
        "        if self.use_age:\n",
        "            self.age_encoder = AgeEncoder(d_model=512)\n",
        "            self.age_fc1 = nn.Linear(1024, 1024)\n",
        "\n",
        "        self.fc2 = nn.Linear(1024, num_classes)\n",
        "\n",
        "    def forward(self, x, age=None):\n",
        "        \"\"\"\n",
        "        Args:\n",
        "            x: Input MRI scan [batch_size, 1, 96, 96, 96]\n",
        "            age: Age of the patient (optional)\n",
        "        \"\"\"\n",
        "        # Block 1\n",
        "        x = self.conv1(x)\n",
        "        x = self.in1(x)\n",
        "        x = self.relu1(x)\n",
        "        x = self.pool1(x)\n",
        "\n",
        "        # Block 2\n",
        "        x = self.conv2(x)\n",
        "        x = self.in2(x)\n",
        "        x = self.relu2(x)\n",
        "        x = self.pool2(x)\n",
        "\n",
        "        # Block 3\n",
        "        x = self.conv3(x)\n",
        "        x = self.in3(x)\n",
        "        x = self.relu3(x)\n",
        "        x = self.pool3(x)\n",
        "\n",
        "        # Block 4\n",
        "        x = self.conv4(x)\n",
        "        x = self.in4(x)\n",
        "        x = self.relu4(x)\n",
        "        x = self.pool4(x)\n",
        "\n",
        "        # Flatten\n",
        "        x = x.view(x.size(0), -1)\n",
        "\n",
        "        # Fully connected layer\n",
        "        x = self.fc1(x)\n",
        "\n",
        "        # Incorporate age if provided\n",
        "        if self.use_age and age is not None:\n",
        "            # Encode age\n",
        "            age_feat = self.age_encoder(age)\n",
        "\n",
        "            # Combine features\n",
        "            x = x + age_feat\n",
        "            x = self.age_fc1(x)\n",
        "\n",
        "        # Final classification layer\n",
        "        x = self.fc2(x)\n",
        "\n",
        "        return x"
      ],
      "metadata": {
        "id": "8C4lCkk7z9cp"
      },
      "execution_count": 3,
      "outputs": []
    },
    {
      "cell_type": "code",
      "source": [
        "def preprocess_mri_scan(scan, target_size=(96, 96, 96)):\n",
        "    \"\"\"\n",
        "    Preprocess MRI scan for the model.\n",
        "\n",
        "    Args:\n",
        "        scan: Input MRI scan (numpy array)\n",
        "        target_size: Target size for the model\n",
        "\n",
        "    Returns:\n",
        "        Preprocessed scan as torch tensor\n",
        "    \"\"\"\n",
        "    # Add channel dimension if not present\n",
        "    if len(scan.shape) == 3:\n",
        "        scan = scan[None, ...]\n",
        "\n",
        "    # Convert to torch tensor\n",
        "    if not isinstance(scan, torch.Tensor):\n",
        "        scan = torch.from_numpy(scan).float()\n",
        "\n",
        "    # Ensure scan has the right dimensions\n",
        "    if scan.shape[1:] != target_size:\n",
        "        # You might need to implement proper 3D resizing\n",
        "        scan = F.interpolate(scan.unsqueeze(0), size=target_size, mode='trilinear', align_corners=False).squeeze(0)\n",
        "\n",
        "    return scan"
      ],
      "metadata": {
        "id": "e1-yN8mO0Aoh"
      },
      "execution_count": 5,
      "outputs": []
    },
    {
      "cell_type": "code",
      "source": [
        "def example_usage():\n",
        "    # Create the model\n",
        "    model = AlzheimerNet(num_classes=3, widening_factor=8, use_age=True)\n",
        "\n",
        "    # Simulate an MRI scan (batch_size, channels, depth, height, width)\n",
        "    dummy_scan = torch.randn(1, 1, 96, 96, 96)\n",
        "\n",
        "    # Simulate patient age (normalized)\n",
        "    patient_age = torch.tensor([75.0 / 120.0], dtype=torch.float32)\n",
        "\n",
        "    # Forward pass\n",
        "    output = model(dummy_scan, patient_age)\n",
        "\n",
        "    # Get prediction\n",
        "    _, predicted_class = torch.max(output, 1)\n",
        "\n",
        "    return predicted_class.item()"
      ],
      "metadata": {
        "id": "-G8hgMz_0Kge"
      },
      "execution_count": 6,
      "outputs": []
    },
    {
      "cell_type": "code",
      "source": [
        "def train_model(model, train_loader, criterion, optimizer, device, epochs=10):\n",
        "    model.train()\n",
        "\n",
        "    for epoch in range(epochs):\n",
        "        running_loss = 0.0\n",
        "        correct = 0\n",
        "        total = 0\n",
        "\n",
        "        for i, data in enumerate(train_loader):\n",
        "            inputs, ages, labels = data\n",
        "            inputs, ages, labels = inputs.to(device), ages.to(device), labels.to(device)\n",
        "\n",
        "            optimizer.zero_grad()\n",
        "\n",
        "            outputs = model(inputs, ages)\n",
        "            loss = criterion(outputs, labels)\n",
        "            loss.backward()\n",
        "            optimizer.step()\n",
        "\n",
        "            running_loss += loss.item()\n",
        "\n",
        "            _, predicted = torch.max(outputs.data, 1)\n",
        "            total += labels.size(0)\n",
        "            correct += (predicted == labels).sum().item()\n",
        "\n",
        "        print(f'Epoch {epoch+1}, Loss: {running_loss/len(train_loader):.4f}, Acc: {100*correct/total:.2f}%')\n",
        "\n",
        "    return model"
      ],
      "metadata": {
        "id": "xFZou87l0LF_"
      },
      "execution_count": 7,
      "outputs": []
    },
    {
      "cell_type": "code",
      "source": [
        "def get_best_model_config():\n",
        "    config = {\n",
        "        'num_classes': 3,  # CN, MCI, AD\n",
        "        'widening_factor': 8,  # Best performing according to paper\n",
        "        'learning_rate': 0.01,\n",
        "        'momentum': 0.9,\n",
        "        'batch_size': 4,  # For memory considerations\n",
        "        'epochs': 100,\n",
        "        'use_age': True  # Whether to incorporate age information\n",
        "    }\n",
        "    return config"
      ],
      "metadata": {
        "id": "AEEgPzNn0NVx"
      },
      "execution_count": 8,
      "outputs": []
    },
    {
      "cell_type": "code",
      "source": [],
      "metadata": {
        "id": "qVdCHpL90PO0"
      },
      "execution_count": null,
      "outputs": []
    }
  ]
}